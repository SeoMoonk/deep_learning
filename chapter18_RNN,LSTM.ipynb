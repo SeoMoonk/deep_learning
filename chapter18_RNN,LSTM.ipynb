{
 "cells": [
  {
   "cell_type": "code",
   "execution_count": 1,
   "id": "837f2566",
   "metadata": {},
   "outputs": [],
   "source": [
    "from tensorflow.keras import models, layers\n",
    "from tensorflow.keras.utils import to_categorical\n",
    "from tensorflow.keras.preprocessing import sequence\n",
    "from tensorflow.keras.datasets import reuters\n",
    "from tensorflow.keras.callbacks import EarlyStopping\n",
    "\n",
    "import numpy as np\n",
    "import matplotlib.pyplot as plt\n",
    "import os\n",
    "\n",
    "os. environ['KMP_DUPLICATE_LIB_OK'] = '1'"
   ]
  },
  {
   "cell_type": "code",
   "execution_count": 6,
   "id": "d7c1189e",
   "metadata": {},
   "outputs": [],
   "source": [
    "# 뉴스(Reuters) 에서 자주 사용되는 상위 1000 개의 단어만 가져온다? \n",
    "# => 빈도 수가 낮은 데이터는 처리하지 않음.\n",
    "# oov_char = Out Of Vocabulary\n",
    "(X_train, y_train), (X_test, y_test) = reuters.load_data(num_words=1000, test_split=0.2)"
   ]
  },
  {
   "cell_type": "code",
   "execution_count": 7,
   "id": "dd692e52",
   "metadata": {},
   "outputs": [
    {
     "data": {
      "text/plain": [
       "45"
      ]
     },
     "execution_count": 7,
     "metadata": {},
     "output_type": "execute_result"
    }
   ],
   "source": [
    "# 0 ~ 45 => 46개의 카테고리\n",
    "np.max(y_train)"
   ]
  },
  {
   "cell_type": "code",
   "execution_count": 8,
   "id": "95d8e6c9",
   "metadata": {},
   "outputs": [
    {
     "data": {
      "text/plain": [
       "(8982,)"
      ]
     },
     "execution_count": 8,
     "metadata": {},
     "output_type": "execute_result"
    }
   ],
   "source": [
    "# 8982개의 기사\n",
    "X_train.shape"
   ]
  },
  {
   "cell_type": "code",
   "execution_count": 9,
   "id": "805d8f9c",
   "metadata": {},
   "outputs": [
    {
     "data": {
      "text/plain": [
       "(2246,)"
      ]
     },
     "execution_count": 9,
     "metadata": {},
     "output_type": "execute_result"
    }
   ],
   "source": [
    "X_test.shape"
   ]
  },
  {
   "cell_type": "code",
   "execution_count": 10,
   "id": "8e367d84",
   "metadata": {},
   "outputs": [
    {
     "name": "stdout",
     "output_type": "stream",
     "text": [
      "[1, 2, 2, 8, 43, 10, 447, 5, 25, 207, 270, 5, 2, 111, 16, 369, 186, 90, 67, 7, 89, 5, 19, 102, 6, 19, 124, 15, 90, 67, 84, 22, 482, 26, 7, 48, 4, 49, 8, 864, 39, 209, 154, 6, 151, 6, 83, 11, 15, 22, 155, 11, 15, 7, 48, 9, 2, 2, 504, 6, 258, 6, 272, 11, 15, 22, 134, 44, 11, 15, 16, 8, 197, 2, 90, 67, 52, 29, 209, 30, 32, 132, 6, 109, 15, 17, 12]\n"
     ]
    }
   ],
   "source": [
    "print(X_train[0])"
   ]
  },
  {
   "cell_type": "code",
   "execution_count": 11,
   "id": "da24e61b",
   "metadata": {},
   "outputs": [],
   "source": [
    "X_train = sequence.pad_sequences(X_train, maxlen=100)\n",
    "X_test = sequence.pad_sequences(X_test, maxlen=100)"
   ]
  },
  {
   "cell_type": "code",
   "execution_count": 12,
   "id": "09e98603",
   "metadata": {},
   "outputs": [],
   "source": [
    "y_train = to_categorical(y_train)\n",
    "y_test = to_categorical(y_test)"
   ]
  },
  {
   "cell_type": "code",
   "execution_count": 14,
   "id": "52ab6080",
   "metadata": {},
   "outputs": [
    {
     "data": {
      "text/plain": [
       "(8982, 46)"
      ]
     },
     "execution_count": 14,
     "metadata": {},
     "output_type": "execute_result"
    }
   ],
   "source": [
    "y_train.shape"
   ]
  },
  {
   "cell_type": "code",
   "execution_count": 15,
   "id": "f2b0ff10",
   "metadata": {},
   "outputs": [
    {
     "data": {
      "text/plain": [
       "array([0., 0., 0., 1., 0., 0., 0., 0., 0., 0., 0., 0., 0., 0., 0., 0., 0.,\n",
       "       0., 0., 0., 0., 0., 0., 0., 0., 0., 0., 0., 0., 0., 0., 0., 0., 0.,\n",
       "       0., 0., 0., 0., 0., 0., 0., 0., 0., 0., 0., 0.], dtype=float32)"
      ]
     },
     "execution_count": 15,
     "metadata": {},
     "output_type": "execute_result"
    }
   ],
   "source": [
    "y_train[0]"
   ]
  },
  {
   "cell_type": "code",
   "execution_count": 17,
   "id": "83c0a9c9",
   "metadata": {},
   "outputs": [
    {
     "name": "stdout",
     "output_type": "stream",
     "text": [
      "Model: \"sequential\"\n",
      "_________________________________________________________________\n",
      " Layer (type)                Output Shape              Param #   \n",
      "=================================================================\n",
      " embedding (Embedding)       (None, None, 100)         100000    \n",
      "                                                                 \n",
      " lstm (LSTM)                 (None, 100)               80400     \n",
      "                                                                 \n",
      " dense (Dense)               (None, 46)                4646      \n",
      "                                                                 \n",
      "=================================================================\n",
      "Total params: 185,046\n",
      "Trainable params: 185,046\n",
      "Non-trainable params: 0\n",
      "_________________________________________________________________\n"
     ]
    }
   ],
   "source": [
    "model = models.Sequential()\n",
    "model.add(layers.Embedding(1000, 100))\n",
    "model.add(layers.LSTM(100, activation='tanh'))\n",
    "model.add(layers.Dense(46, activation='softmax'))\n",
    "model.summary()"
   ]
  },
  {
   "cell_type": "code",
   "execution_count": 19,
   "id": "acb65f70",
   "metadata": {},
   "outputs": [
    {
     "name": "stdout",
     "output_type": "stream",
     "text": [
      "Epoch 1/200\n",
      "450/450 [==============================] - 19s 38ms/step - loss: 2.1845 - accuracy: 0.4412 - val_loss: 2.0507 - val_accuracy: 0.5022\n",
      "Epoch 2/200\n",
      "450/450 [==============================] - 17s 37ms/step - loss: 1.8824 - accuracy: 0.5181 - val_loss: 1.7655 - val_accuracy: 0.5601\n",
      "Epoch 3/200\n",
      "450/450 [==============================] - 17s 37ms/step - loss: 1.6847 - accuracy: 0.5655 - val_loss: 1.6868 - val_accuracy: 0.5579\n",
      "Epoch 4/200\n",
      "450/450 [==============================] - 17s 37ms/step - loss: 1.5836 - accuracy: 0.5921 - val_loss: 1.6049 - val_accuracy: 0.5810\n",
      "Epoch 5/200\n",
      "450/450 [==============================] - 17s 37ms/step - loss: 1.4526 - accuracy: 0.6287 - val_loss: 1.4449 - val_accuracy: 0.6376\n",
      "Epoch 6/200\n",
      "450/450 [==============================] - 17s 37ms/step - loss: 1.2990 - accuracy: 0.6676 - val_loss: 1.3285 - val_accuracy: 0.6647\n",
      "Epoch 7/200\n",
      "450/450 [==============================] - 17s 37ms/step - loss: 1.1606 - accuracy: 0.7041 - val_loss: 1.2412 - val_accuracy: 0.6750\n",
      "Epoch 8/200\n",
      "450/450 [==============================] - 17s 37ms/step - loss: 1.0573 - accuracy: 0.7303 - val_loss: 1.2005 - val_accuracy: 0.6923\n",
      "Epoch 9/200\n",
      "450/450 [==============================] - 17s 37ms/step - loss: 0.9825 - accuracy: 0.7472 - val_loss: 1.1904 - val_accuracy: 0.6897\n",
      "Epoch 10/200\n",
      "450/450 [==============================] - 17s 37ms/step - loss: 0.9080 - accuracy: 0.7665 - val_loss: 1.1616 - val_accuracy: 0.7048\n",
      "Epoch 11/200\n",
      "450/450 [==============================] - 17s 37ms/step - loss: 0.8366 - accuracy: 0.7856 - val_loss: 1.1672 - val_accuracy: 0.7066\n",
      "Epoch 12/200\n",
      "450/450 [==============================] - 17s 38ms/step - loss: 0.7694 - accuracy: 0.8016 - val_loss: 1.1635 - val_accuracy: 0.7164\n",
      "Epoch 13/200\n",
      "450/450 [==============================] - 17s 38ms/step - loss: 0.7204 - accuracy: 0.8152 - val_loss: 1.1631 - val_accuracy: 0.7191\n",
      "Epoch 14/200\n",
      "450/450 [==============================] - 17s 37ms/step - loss: 0.6649 - accuracy: 0.8275 - val_loss: 1.1565 - val_accuracy: 0.7293\n",
      "Epoch 15/200\n",
      "450/450 [==============================] - 17s 38ms/step - loss: 0.6061 - accuracy: 0.8454 - val_loss: 1.1916 - val_accuracy: 0.7275\n",
      "Epoch 16/200\n",
      "450/450 [==============================] - 17s 37ms/step - loss: 0.5584 - accuracy: 0.8570 - val_loss: 1.2328 - val_accuracy: 0.7222\n",
      "Epoch 17/200\n",
      "450/450 [==============================] - 17s 37ms/step - loss: 0.5215 - accuracy: 0.8655 - val_loss: 1.2424 - val_accuracy: 0.7231\n",
      "Epoch 18/200\n",
      "450/450 [==============================] - 17s 37ms/step - loss: 0.4682 - accuracy: 0.8804 - val_loss: 1.3162 - val_accuracy: 0.7061\n",
      "Epoch 19/200\n",
      "450/450 [==============================] - 17s 38ms/step - loss: 0.4318 - accuracy: 0.8887 - val_loss: 1.3109 - val_accuracy: 0.7168\n"
     ]
    }
   ],
   "source": [
    "model.compile(loss='categorical_crossentropy', optimizer='adam', metrics=['accuracy'])\n",
    "\n",
    "early_stopping = EarlyStopping(monitor = 'val_loss', patience=5)\n",
    "\n",
    "h = model.fit(X_train, y_train, epochs=200, batch_size=20, \n",
    "              validation_data=(X_test, y_test), callbacks=[early_stopping])"
   ]
  },
  {
   "cell_type": "code",
   "execution_count": 20,
   "id": "1529bad3",
   "metadata": {},
   "outputs": [
    {
     "data": {
      "image/png": "[encoded data removed]",
      "text/plain": [
       "<Figure size 640x480 with 1 Axes>"
      ]
     },
     "metadata": {},
     "output_type": "display_data"
    }
   ],
   "source": [
    "y_vloss = h.history['val_loss']\n",
    "y_loss = h.history['loss']\n",
    "\n",
    "# 그래프로 표현해 보겠습니다.\n",
    "x_len = np.arange(len(y_loss))\n",
    "plt.plot(x_len, y_vloss, marker='.', c=\"red\", label='Testset_loss')\n",
    "plt.plot(x_len, y_loss, marker='.', c=\"blue\", label='Trainset_loss')\n",
    "\n",
    "# 그래프에 그리드를 주고 레이블을 표시하겠습니다. \n",
    "plt.legend(loc='upper right')\n",
    "plt.grid()\n",
    "plt.xlabel('epoch')\n",
    "plt.ylabel('loss')\n",
    "plt.show()"
   ]
  },
  {
   "cell_type": "code",
   "execution_count": null,
   "id": "65d5744e",
   "metadata": {},
   "outputs": [],
   "source": []
  }
 ],
 "metadata": {
  "kernelspec": {
   "display_name": "Python 3 (ipykernel)",
   "language": "python",
   "name": "python3"
  },
  "language_info": {
   "codemirror_mode": {
    "name": "ipython",
    "version": 3
   },
   "file_extension": ".py",
   "mimetype": "text/x-python",
   "name": "python",
   "nbconvert_exporter": "python",
   "pygments_lexer": "ipython3",
   "version": "3.9.17"
  }
 },
 "nbformat": 4,
 "nbformat_minor": 5
}
