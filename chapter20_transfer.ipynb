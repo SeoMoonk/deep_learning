{
 "cells": [
  {
   "cell_type": "code",
   "execution_count": 1,
   "id": "af34a8a5",
   "metadata": {},
   "outputs": [],
   "source": [
    "from tensorflow.keras import models, layers, optimizers\n",
    "from tensorflow.keras.preprocessing.image import ImageDataGenerator\n",
    "from tensorflow.keras.callbacks import EarlyStopping\n",
    "from tensorflow.keras.applications import VGG16\n",
    "\n",
    "import numpy as np\n",
    "import matplotlib.pyplot as plt\n",
    "import os\n",
    "\n",
    "os.environ['KMP_DUPLICATE_LIB_OK'] = '1'"
   ]
  },
  {
   "cell_type": "code",
   "execution_count": 3,
   "id": "af037c4a",
   "metadata": {},
   "outputs": [
    {
     "name": "stdout",
     "output_type": "stream",
     "text": [
      "Found 160 images belonging to 2 classes.\n",
      "Found 120 images belonging to 2 classes.\n"
     ]
    }
   ],
   "source": [
    "BATCH_SIZE = 5\n",
    "\n",
    "train_datagen = ImageDataGenerator(\n",
    "    rescale=1./255,\n",
    "    horizontal_flip=True,\n",
    "    width_shift_range=0.1,\n",
    "    height_shift_range=0.1,\n",
    ")\n",
    "\n",
    "train_generator = train_datagen.flow_from_directory(\n",
    "    'data/train',\n",
    "    target_size=(150, 150),\n",
    "    batch_size=BATCH_SIZE,\n",
    "    class_mode='binary'\n",
    ")\n",
    "\n",
    "test_datagen = ImageDataGenerator(rescale=1./255)\n",
    "\n",
    "test_generator = test_datagen.flow_from_directory(\n",
    "    'data/test',\n",
    "    target_size=(150, 150),\n",
    "    batch_size=BATCH_SIZE,\n",
    "    class_mode='binary'\n",
    ")"
   ]
  },
  {
   "cell_type": "code",
   "execution_count": 6,
   "id": "459a8031",
   "metadata": {},
   "outputs": [
    {
     "name": "stdout",
     "output_type": "stream",
     "text": [
      "Model: \"vgg16\"\n",
      "_________________________________________________________________\n",
      " Layer (type)                Output Shape              Param #   \n",
      "=================================================================\n",
      " input_2 (InputLayer)        [(None, 150, 150, 3)]     0         \n",
      "                                                                 \n",
      " block1_conv1 (Conv2D)       (None, 150, 150, 64)      1792      \n",
      "                                                                 \n",
      " block1_conv2 (Conv2D)       (None, 150, 150, 64)      36928     \n",
      "                                                                 \n",
      " block1_pool (MaxPooling2D)  (None, 75, 75, 64)        0         \n",
      "                                                                 \n",
      " block2_conv1 (Conv2D)       (None, 75, 75, 128)       73856     \n",
      "                                                                 \n",
      " block2_conv2 (Conv2D)       (None, 75, 75, 128)       147584    \n",
      "                                                                 \n",
      " block2_pool (MaxPooling2D)  (None, 37, 37, 128)       0         \n",
      "                                                                 \n",
      " block3_conv1 (Conv2D)       (None, 37, 37, 256)       295168    \n",
      "                                                                 \n",
      " block3_conv2 (Conv2D)       (None, 37, 37, 256)       590080    \n",
      "                                                                 \n",
      " block3_conv3 (Conv2D)       (None, 37, 37, 256)       590080    \n",
      "                                                                 \n",
      " block3_pool (MaxPooling2D)  (None, 18, 18, 256)       0         \n",
      "                                                                 \n",
      " block4_conv1 (Conv2D)       (None, 18, 18, 512)       1180160   \n",
      "                                                                 \n",
      " block4_conv2 (Conv2D)       (None, 18, 18, 512)       2359808   \n",
      "                                                                 \n",
      " block4_conv3 (Conv2D)       (None, 18, 18, 512)       2359808   \n",
      "                                                                 \n",
      " block4_pool (MaxPooling2D)  (None, 9, 9, 512)         0         \n",
      "                                                                 \n",
      " block5_conv1 (Conv2D)       (None, 9, 9, 512)         2359808   \n",
      "                                                                 \n",
      " block5_conv2 (Conv2D)       (None, 9, 9, 512)         2359808   \n",
      "                                                                 \n",
      " block5_conv3 (Conv2D)       (None, 9, 9, 512)         2359808   \n",
      "                                                                 \n",
      " block5_pool (MaxPooling2D)  (None, 4, 4, 512)         0         \n",
      "                                                                 \n",
      "=================================================================\n",
      "Total params: 14,714,688\n",
      "Trainable params: 0\n",
      "Non-trainable params: 14,714,688\n",
      "_________________________________________________________________\n"
     ]
    }
   ],
   "source": [
    "transfer_model = VGG16(weights='imagenet', include_top=False,\n",
    "                      input_shape=(150, 150, 3))\n",
    "\n",
    "transfer_model.trainable = False\n",
    "transfer_model.summary()"
   ]
  },
  {
   "cell_type": "code",
   "execution_count": 8,
   "id": "96f8aec4",
   "metadata": {},
   "outputs": [
    {
     "name": "stdout",
     "output_type": "stream",
     "text": [
      "Model: \"sequential_1\"\n",
      "_________________________________________________________________\n",
      " Layer (type)                Output Shape              Param #   \n",
      "=================================================================\n",
      " vgg16 (Functional)          (None, 4, 4, 512)         14714688  \n",
      "                                                                 \n",
      " flatten (Flatten)           (None, 8192)              0         \n",
      "                                                                 \n",
      " dense (Dense)               (None, 64)                524352    \n",
      "                                                                 \n",
      " dropout (Dropout)           (None, 64)                0         \n",
      "                                                                 \n",
      " dense_1 (Dense)             (None, 1)                 65        \n",
      "                                                                 \n",
      "=================================================================\n",
      "Total params: 15,239,105\n",
      "Trainable params: 524,417\n",
      "Non-trainable params: 14,714,688\n",
      "_________________________________________________________________\n"
     ]
    }
   ],
   "source": [
    "finetune_model = models.Sequential()\n",
    "finetune_model.add(transfer_model)\n",
    "finetune_model.add(layers.Flatten())\n",
    "finetune_model.add(layers.Dense(64, activation='relu'))\n",
    "finetune_model.add(layers.Dropout(0.5))\n",
    "finetune_model.add(layers.Dense(1, activation='sigmoid'))\n",
    "finetune_model.summary()"
   ]
  },
  {
   "cell_type": "code",
   "execution_count": 10,
   "id": "7cfae40c",
   "metadata": {},
   "outputs": [],
   "source": [
    "finetune_model.compile(loss='binary_crossentropy', optimizer=optimizers.Adam(learning_rate=0.0002),\n",
    "             metrics=['accuracy'])\n",
    "\n",
    "early_stopping = EarlyStopping(monitor='val_loss', patience=5)"
   ]
  },
  {
   "cell_type": "code",
   "execution_count": 11,
   "id": "7b9c7505",
   "metadata": {},
   "outputs": [
    {
     "name": "stdout",
     "output_type": "stream",
     "text": [
      "Epoch 1/100\n",
      "32/32 [==============================] - 8s 237ms/step - loss: 0.6649 - accuracy: 0.5875 - val_loss: 0.5569 - val_accuracy: 0.8500\n",
      "Epoch 2/100\n",
      "32/32 [==============================] - 7s 218ms/step - loss: 0.6011 - accuracy: 0.7000 - val_loss: 0.4980 - val_accuracy: 0.8667\n",
      "Epoch 3/100\n",
      "32/32 [==============================] - 7s 220ms/step - loss: 0.4723 - accuracy: 0.8375 - val_loss: 0.4212 - val_accuracy: 0.9000\n",
      "Epoch 4/100\n",
      "32/32 [==============================] - 7s 218ms/step - loss: 0.4494 - accuracy: 0.8313 - val_loss: 0.3821 - val_accuracy: 0.8667\n",
      "Epoch 5/100\n",
      "32/32 [==============================] - 7s 226ms/step - loss: 0.4150 - accuracy: 0.8188 - val_loss: 0.3434 - val_accuracy: 0.9250\n",
      "Epoch 6/100\n",
      "32/32 [==============================] - 7s 214ms/step - loss: 0.3778 - accuracy: 0.8375 - val_loss: 0.3088 - val_accuracy: 0.9083\n",
      "Epoch 7/100\n",
      "32/32 [==============================] - 7s 207ms/step - loss: 0.3165 - accuracy: 0.8938 - val_loss: 0.2805 - val_accuracy: 0.9167\n",
      "Epoch 8/100\n",
      "32/32 [==============================] - 7s 210ms/step - loss: 0.2738 - accuracy: 0.9187 - val_loss: 0.2578 - val_accuracy: 0.9250\n",
      "Epoch 9/100\n",
      "32/32 [==============================] - 6s 205ms/step - loss: 0.2801 - accuracy: 0.9000 - val_loss: 0.2600 - val_accuracy: 0.9000\n",
      "Epoch 10/100\n",
      "32/32 [==============================] - 7s 219ms/step - loss: 0.2775 - accuracy: 0.8875 - val_loss: 0.2285 - val_accuracy: 0.9583\n",
      "Epoch 11/100\n",
      "32/32 [==============================] - 7s 219ms/step - loss: 0.2365 - accuracy: 0.9438 - val_loss: 0.2016 - val_accuracy: 0.9583\n",
      "Epoch 12/100\n",
      "32/32 [==============================] - 7s 217ms/step - loss: 0.2278 - accuracy: 0.9187 - val_loss: 0.2121 - val_accuracy: 0.9417\n",
      "Epoch 13/100\n",
      "32/32 [==============================] - 7s 218ms/step - loss: 0.2223 - accuracy: 0.9187 - val_loss: 0.1874 - val_accuracy: 0.9167\n",
      "Epoch 14/100\n",
      "32/32 [==============================] - 7s 219ms/step - loss: 0.2109 - accuracy: 0.9187 - val_loss: 0.1828 - val_accuracy: 0.9667\n",
      "Epoch 15/100\n",
      "32/32 [==============================] - 7s 225ms/step - loss: 0.1774 - accuracy: 0.9438 - val_loss: 0.1744 - val_accuracy: 0.9167\n",
      "Epoch 16/100\n",
      "32/32 [==============================] - 7s 222ms/step - loss: 0.1766 - accuracy: 0.9500 - val_loss: 0.1690 - val_accuracy: 0.9583\n",
      "Epoch 17/100\n",
      "32/32 [==============================] - 7s 218ms/step - loss: 0.1746 - accuracy: 0.9563 - val_loss: 0.1636 - val_accuracy: 0.9417\n",
      "Epoch 18/100\n",
      "32/32 [==============================] - 7s 219ms/step - loss: 0.1593 - accuracy: 0.9625 - val_loss: 0.1471 - val_accuracy: 0.9667\n",
      "Epoch 19/100\n",
      "32/32 [==============================] - 7s 215ms/step - loss: 0.1895 - accuracy: 0.9438 - val_loss: 0.1901 - val_accuracy: 0.9250\n",
      "Epoch 20/100\n",
      "32/32 [==============================] - 7s 221ms/step - loss: 0.1716 - accuracy: 0.9438 - val_loss: 0.1430 - val_accuracy: 0.9667\n",
      "Epoch 21/100\n",
      "32/32 [==============================] - 7s 216ms/step - loss: 0.1590 - accuracy: 0.9500 - val_loss: 0.1469 - val_accuracy: 0.9417\n",
      "Epoch 22/100\n",
      "32/32 [==============================] - 7s 213ms/step - loss: 0.1398 - accuracy: 0.9625 - val_loss: 0.1293 - val_accuracy: 0.9583\n",
      "Epoch 23/100\n",
      "32/32 [==============================] - 7s 214ms/step - loss: 0.1407 - accuracy: 0.9500 - val_loss: 0.1540 - val_accuracy: 0.9417\n",
      "Epoch 24/100\n",
      "32/32 [==============================] - 7s 214ms/step - loss: 0.1662 - accuracy: 0.9563 - val_loss: 0.1299 - val_accuracy: 0.9667\n",
      "Epoch 25/100\n",
      "32/32 [==============================] - 7s 219ms/step - loss: 0.1208 - accuracy: 0.9688 - val_loss: 0.1668 - val_accuracy: 0.9250\n",
      "Epoch 26/100\n",
      "32/32 [==============================] - 7s 213ms/step - loss: 0.1337 - accuracy: 0.9563 - val_loss: 0.1506 - val_accuracy: 0.9417\n",
      "Epoch 27/100\n",
      "32/32 [==============================] - 7s 215ms/step - loss: 0.1135 - accuracy: 0.9563 - val_loss: 0.1440 - val_accuracy: 0.9500\n"
     ]
    }
   ],
   "source": [
    "h = finetune_model.fit(train_generator, epochs=100, validation_data=test_generator,\n",
    "             callbacks=[early_stopping])"
   ]
  },
  {
   "cell_type": "code",
   "execution_count": 12,
   "id": "34b46c34",
   "metadata": {},
   "outputs": [
    {
     "data": {
      "image/png": "[encoded data removed]",
      "text/plain": [
       "<Figure size 640x480 with 1 Axes>"
      ]
     },
     "metadata": {},
     "output_type": "display_data"
    }
   ],
   "source": [
    "y_vloss = h.history['val_loss']\n",
    "y_loss = h.history['loss']\n",
    "\n",
    "x_len = np.arange(len(y_loss))\n",
    "plt.plot(x_len, y_vloss, marker='.', c=\"red\", label='Testset_loss')\n",
    "plt.plot(x_len, y_loss, marker='.', c=\"blue\", label='Trainset_loss')\n",
    "\n",
    "plt.legend(loc='upper right')\n",
    "plt.grid()\n",
    "plt.xlabel('epoch')\n",
    "plt.ylabel('loss')\n",
    "plt.show()"
   ]
  },
  {
   "cell_type": "code",
   "execution_count": null,
   "id": "e6480d3a",
   "metadata": {},
   "outputs": [],
   "source": []
  }
 ],
 "metadata": {
  "kernelspec": {
   "display_name": "Python 3 (ipykernel)",
   "language": "python",
   "name": "python3"
  },
  "language_info": {
   "codemirror_mode": {
    "name": "ipython",
    "version": 3
   },
   "file_extension": ".py",
   "mimetype": "text/x-python",
   "name": "python",
   "nbconvert_exporter": "python",
   "pygments_lexer": "ipython3",
   "version": "3.9.17"
  }
 },
 "nbformat": 4,
 "nbformat_minor": 5
}
