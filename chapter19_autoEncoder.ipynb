{
 "cells": [
  {
   "cell_type": "code",
   "execution_count": 1,
   "id": "9619ff90",
   "metadata": {},
   "outputs": [],
   "source": [
    "from tensorflow.keras.datasets import mnist\n",
    "from tensorflow.keras import models, layers\n",
    "import matplotlib.pyplot as plt\n",
    "import numpy as np\n",
    "import os\n",
    "\n",
    "os.environ['KMP_DUPLICATE_LIB_OK'] = '1'"
   ]
  },
  {
   "cell_type": "code",
   "execution_count": 2,
   "id": "dbe9463e",
   "metadata": {},
   "outputs": [],
   "source": [
    "(X_train, _), (X_test, _) = mnist.load_data()"
   ]
  },
  {
   "cell_type": "code",
   "execution_count": 3,
   "id": "261877cc",
   "metadata": {},
   "outputs": [],
   "source": [
    "X_train = X_train.reshape(X_train.shape[0], 28, 28, 1).astype(float) / 255\n",
    "X_test = X_test.reshape(X_test.shape[0], 28, 28, 1).astype(float) / 255"
   ]
  },
  {
   "cell_type": "code",
   "execution_count": 6,
   "id": "ba11a527",
   "metadata": {},
   "outputs": [],
   "source": [
    "autoencoder = models.Sequential()\n",
    "\n",
    "autoencoder.add(layers.Conv2D(16, kernel_size = 3, padding = 'same',\n",
    "                             input_shape=(28, 28, 1), activation = 'relu'))\n",
    "\n",
    "autoencoder.add(layers.MaxPooling2D(pool_size = 2))\n",
    "\n",
    "autoencoder.add(layers.Conv2D(8, kernel_size = 3, padding = 'same', activation = 'relu'))\n",
    "autoencoder.add(layers.MaxPooling2D(pool_size=2))\n",
    "autoencoder.add(layers.Conv2D(8, kernel_size = 3, strides = 2,\n",
    "                              padding = 'same', activation = 'relu'))\n",
    "\n",
    "\n",
    "autoencoder.add(layers.Conv2D(8, kernel_size = 3, padding = 'same',\n",
    "                             activation = 'relu'))\n",
    "autoencoder.add(layers.UpSampling2D())\n",
    "autoencoder.add(layers.Conv2D(8, kernel_size = 3, padding = 'same',\n",
    "                             activation = 'relu'))\n",
    "autoencoder.add(layers.UpSampling2D())\n",
    "autoencoder.add(layers.Conv2D(16, kernel_size = 3, activation = 'relu'))\n",
    "autoencoder.add(layers.UpSampling2D())\n",
    "autoencoder.add(layers.Conv2D(1, kernel_size = 3, padding = 'same', activation = 'sigmoid'))"
   ]
  },
  {
   "cell_type": "code",
   "execution_count": 7,
   "id": "0d7e394f",
   "metadata": {},
   "outputs": [
    {
     "name": "stdout",
     "output_type": "stream",
     "text": [
      "Epoch 1/50\n",
      "469/469 [==============================] - 102s 216ms/step - loss: 0.2101 - val_loss: 0.1406\n",
      "Epoch 2/50\n",
      "469/469 [==============================] - 103s 219ms/step - loss: 0.1275 - val_loss: 0.1168\n",
      "Epoch 3/50\n",
      "469/469 [==============================] - 99s 212ms/step - loss: 0.1135 - val_loss: 0.1083\n",
      "Epoch 4/50\n",
      "469/469 [==============================] - 98s 209ms/step - loss: 0.1071 - val_loss: 0.1039\n",
      "Epoch 5/50\n",
      "469/469 [==============================] - 99s 212ms/step - loss: 0.1035 - val_loss: 0.1010\n",
      "Epoch 6/50\n",
      "469/469 [==============================] - 99s 211ms/step - loss: 0.1010 - val_loss: 0.0988\n",
      "Epoch 7/50\n",
      "469/469 [==============================] - 100s 213ms/step - loss: 0.0992 - val_loss: 0.0972\n",
      "Epoch 8/50\n",
      "469/469 [==============================] - 100s 212ms/step - loss: 0.0976 - val_loss: 0.0955\n",
      "Epoch 9/50\n",
      "469/469 [==============================] - 99s 210ms/step - loss: 0.0961 - val_loss: 0.0941\n",
      "Epoch 10/50\n",
      "469/469 [==============================] - 98s 210ms/step - loss: 0.0949 - val_loss: 0.0933\n",
      "Epoch 11/50\n",
      "469/469 [==============================] - 101s 214ms/step - loss: 0.0940 - val_loss: 0.0927\n",
      "Epoch 12/50\n",
      "469/469 [==============================] - 99s 210ms/step - loss: 0.0932 - val_loss: 0.0917\n",
      "Epoch 13/50\n",
      "469/469 [==============================] - 100s 213ms/step - loss: 0.0924 - val_loss: 0.0911\n",
      "Epoch 14/50\n",
      "469/469 [==============================] - 99s 211ms/step - loss: 0.0917 - val_loss: 0.0906\n",
      "Epoch 15/50\n",
      "469/469 [==============================] - 99s 212ms/step - loss: 0.0911 - val_loss: 0.0898\n",
      "Epoch 16/50\n",
      "469/469 [==============================] - 100s 213ms/step - loss: 0.0905 - val_loss: 0.0892\n",
      "Epoch 17/50\n",
      "469/469 [==============================] - 99s 211ms/step - loss: 0.0900 - val_loss: 0.0887\n",
      "Epoch 18/50\n",
      "469/469 [==============================] - 99s 211ms/step - loss: 0.0895 - val_loss: 0.0881\n",
      "Epoch 19/50\n",
      "469/469 [==============================] - 99s 211ms/step - loss: 0.0891 - val_loss: 0.0877\n",
      "Epoch 20/50\n",
      "469/469 [==============================] - 99s 212ms/step - loss: 0.0887 - val_loss: 0.0888\n",
      "Epoch 21/50\n",
      "469/469 [==============================] - 99s 212ms/step - loss: 0.0882 - val_loss: 0.0871\n",
      "Epoch 22/50\n",
      "469/469 [==============================] - 99s 211ms/step - loss: 0.0879 - val_loss: 0.0866\n",
      "Epoch 23/50\n",
      "469/469 [==============================] - 99s 212ms/step - loss: 0.0875 - val_loss: 0.0866\n",
      "Epoch 24/50\n",
      "469/469 [==============================] - 100s 213ms/step - loss: 0.0872 - val_loss: 0.0861\n",
      "Epoch 25/50\n",
      "469/469 [==============================] - 100s 213ms/step - loss: 0.0869 - val_loss: 0.0858\n",
      "Epoch 26/50\n",
      "469/469 [==============================] - 99s 211ms/step - loss: 0.0865 - val_loss: 0.0854\n",
      "Epoch 27/50\n",
      "469/469 [==============================] - 99s 210ms/step - loss: 0.0862 - val_loss: 0.0852\n",
      "Epoch 28/50\n",
      "469/469 [==============================] - 99s 211ms/step - loss: 0.0859 - val_loss: 0.0848\n",
      "Epoch 29/50\n",
      "469/469 [==============================] - 100s 213ms/step - loss: 0.0857 - val_loss: 0.0845\n",
      "Epoch 30/50\n",
      "469/469 [==============================] - 100s 213ms/step - loss: 0.0854 - val_loss: 0.0845\n",
      "Epoch 31/50\n",
      "469/469 [==============================] - 98s 209ms/step - loss: 0.0852 - val_loss: 0.0843\n",
      "Epoch 32/50\n",
      "469/469 [==============================] - 106s 227ms/step - loss: 0.0849 - val_loss: 0.0843\n",
      "Epoch 33/50\n",
      "469/469 [==============================] - 102s 217ms/step - loss: 0.0847 - val_loss: 0.0836\n",
      "Epoch 34/50\n",
      "469/469 [==============================] - 102s 218ms/step - loss: 0.0845 - val_loss: 0.0834\n",
      "Epoch 35/50\n",
      "469/469 [==============================] - 103s 219ms/step - loss: 0.0843 - val_loss: 0.0834\n",
      "Epoch 36/50\n",
      "469/469 [==============================] - 101s 216ms/step - loss: 0.0841 - val_loss: 0.0829\n",
      "Epoch 37/50\n",
      "469/469 [==============================] - 100s 214ms/step - loss: 0.0840 - val_loss: 0.0829\n",
      "Epoch 38/50\n",
      "469/469 [==============================] - 101s 215ms/step - loss: 0.0838 - val_loss: 0.0828\n",
      "Epoch 39/50\n",
      "469/469 [==============================] - 102s 218ms/step - loss: 0.0837 - val_loss: 0.0834\n",
      "Epoch 40/50\n",
      "469/469 [==============================] - 102s 217ms/step - loss: 0.0835 - val_loss: 0.0825\n",
      "Epoch 41/50\n",
      "469/469 [==============================] - 99s 212ms/step - loss: 0.0834 - val_loss: 0.0823\n",
      "Epoch 42/50\n",
      "469/469 [==============================] - 99s 212ms/step - loss: 0.0832 - val_loss: 0.0823\n",
      "Epoch 43/50\n",
      "469/469 [==============================] - 99s 211ms/step - loss: 0.0832 - val_loss: 0.0823\n",
      "Epoch 44/50\n",
      "469/469 [==============================] - 99s 211ms/step - loss: 0.0830 - val_loss: 0.0821\n",
      "Epoch 45/50\n",
      "469/469 [==============================] - 99s 212ms/step - loss: 0.0829 - val_loss: 0.0821\n",
      "Epoch 46/50\n",
      "469/469 [==============================] - 98s 210ms/step - loss: 0.0828 - val_loss: 0.0818\n",
      "Epoch 47/50\n",
      "469/469 [==============================] - 100s 214ms/step - loss: 0.0828 - val_loss: 0.0817\n",
      "Epoch 48/50\n",
      "469/469 [==============================] - 99s 211ms/step - loss: 0.0826 - val_loss: 0.0817\n",
      "Epoch 49/50\n",
      "469/469 [==============================] - 100s 214ms/step - loss: 0.0826 - val_loss: 0.0814\n",
      "Epoch 50/50\n",
      "469/469 [==============================] - 99s 211ms/step - loss: 0.0824 - val_loss: 0.0816\n"
     ]
    },
    {
     "data": {
      "text/plain": [
       "<keras.callbacks.History at 0x2c20021bcd0>"
      ]
     },
     "execution_count": 7,
     "metadata": {},
     "output_type": "execute_result"
    }
   ],
   "source": [
    "autoencoder.compile(loss='binary_crossentropy', optimizer='adam')\n",
    "autoencoder.fit(X_train, X_train, epochs=50, batch_size=128,\n",
    "               validation_data=(X_test, X_test))"
   ]
  },
  {
   "cell_type": "code",
   "execution_count": 8,
   "id": "f5cde800",
   "metadata": {},
   "outputs": [
    {
     "name": "stdout",
     "output_type": "stream",
     "text": [
      "313/313 [==============================] - 1s 2ms/step\n"
     ]
    },
    {
     "data": {
      "image/png": "[encoded data removed]",
      "text/plain": [
       "<Figure size 700x200 with 10 Axes>"
      ]
     },
     "metadata": {},
     "output_type": "display_data"
    }
   ],
   "source": [
    "random_test = np.random.randint(X_test.shape[0], size=5)\n",
    "ae_imgs = autoencoder.predict(X_test)\n",
    "\n",
    "plt.figure(figsize=(7, 2))\n",
    "\n",
    "for i, image_idx in enumerate(random_test):\n",
    "    ax = plt.subplot(2, 7, i+1)\n",
    "    plt.imshow(X_test[image_idx].reshape(28, 28))\n",
    "    ax.axis('off')\n",
    "    ax = plt.subplot(2, 7, 7 + i + 1)\n",
    "    plt.imshow(ae_imgs[image_idx].reshape(28, 28))\n",
    "    ax.axis('off')\n",
    "    \n",
    "plt.show()"
   ]
  },
  {
   "cell_type": "code",
   "execution_count": null,
   "id": "366a06fe",
   "metadata": {},
   "outputs": [],
   "source": []
  }
 ],
 "metadata": {
  "kernelspec": {
   "display_name": "Python 3 (ipykernel)",
   "language": "python",
   "name": "python3"
  },
  "language_info": {
   "codemirror_mode": {
    "name": "ipython",
    "version": 3
   },
   "file_extension": ".py",
   "mimetype": "text/x-python",
   "name": "python",
   "nbconvert_exporter": "python",
   "pygments_lexer": "ipython3",
   "version": "3.9.17"
  }
 },
 "nbformat": 4,
 "nbformat_minor": 5
}
