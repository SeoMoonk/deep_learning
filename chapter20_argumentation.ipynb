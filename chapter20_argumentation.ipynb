{
 "cells": [
  {
   "cell_type": "code",
   "execution_count": 1,
   "id": "5389351e",
   "metadata": {},
   "outputs": [],
   "source": [
    "from tensorflow.keras import models, layers, optimizers\n",
    "from tensorflow.keras.preprocessing.image import ImageDataGenerator\n",
    "from tensorflow.keras.callbacks import EarlyStopping\n",
    "\n",
    "import numpy as np\n",
    "import matplotlib.pyplot as plt\n",
    "import os\n",
    "\n",
    "os.environ['KMP_DUPLICATE_LIB_OK'] = '1'"
   ]
  },
  {
   "cell_type": "code",
   "execution_count": 2,
   "id": "174e794a",
   "metadata": {},
   "outputs": [
    {
     "name": "stdout",
     "output_type": "stream",
     "text": [
      "Found 160 images belonging to 2 classes.\n",
      "Found 120 images belonging to 2 classes.\n"
     ]
    }
   ],
   "source": [
    "BATCH_SIZE = 5\n",
    "\n",
    "# 여러가지 학습할 이미지 효과들은 원본 이미지에 따라 다르게 지정 \n",
    "# (뇌 MRI 이미지에 땡기기, 회전 등은 필요 X)\n",
    "train_datagen = ImageDataGenerator(\n",
    "    rescale=1./255,\n",
    "    horizontal_flip=True,\n",
    "    width_shift_range=0.1,\n",
    "    height_shift_range=0.1,\n",
    ")\n",
    "\n",
    "train_generator = train_datagen.flow_from_directory(\n",
    "    'data/train',\n",
    "    target_size=(150, 150),\n",
    "    batch_size=BATCH_SIZE,\n",
    "    class_mode='binary'\n",
    ")\n",
    "\n",
    "test_datagen = ImageDataGenerator(rescale=1./255)\n",
    "\n",
    "test_generator = test_datagen.flow_from_directory(\n",
    "    'data/test',\n",
    "    target_size=(150, 150),\n",
    "    batch_size=BATCH_SIZE,\n",
    "    class_mode='binary'\n",
    ")"
   ]
  },
  {
   "cell_type": "code",
   "execution_count": 3,
   "id": "ccbcdd55",
   "metadata": {},
   "outputs": [
    {
     "name": "stdout",
     "output_type": "stream",
     "text": [
      "Model: \"sequential\"\n",
      "_________________________________________________________________\n",
      " Layer (type)                Output Shape              Param #   \n",
      "=================================================================\n",
      " conv2d (Conv2D)             (None, 148, 148, 32)      896       \n",
      "                                                                 \n",
      " max_pooling2d (MaxPooling2D  (None, 74, 74, 32)       0         \n",
      " )                                                               \n",
      "                                                                 \n",
      " conv2d_1 (Conv2D)           (None, 72, 72, 32)        9248      \n",
      "                                                                 \n",
      " max_pooling2d_1 (MaxPooling  (None, 36, 36, 32)       0         \n",
      " 2D)                                                             \n",
      "                                                                 \n",
      " conv2d_2 (Conv2D)           (None, 34, 34, 64)        18496     \n",
      "                                                                 \n",
      " max_pooling2d_2 (MaxPooling  (None, 17, 17, 64)       0         \n",
      " 2D)                                                             \n",
      "                                                                 \n",
      " flatten (Flatten)           (None, 18496)             0         \n",
      "                                                                 \n",
      " dense (Dense)               (None, 64)                1183808   \n",
      "                                                                 \n",
      " dropout (Dropout)           (None, 64)                0         \n",
      "                                                                 \n",
      " dense_1 (Dense)             (None, 1)                 65        \n",
      "                                                                 \n",
      "=================================================================\n",
      "Total params: 1,212,513\n",
      "Trainable params: 1,212,513\n",
      "Non-trainable params: 0\n",
      "_________________________________________________________________\n"
     ]
    }
   ],
   "source": [
    "model = models.Sequential()\n",
    "\n",
    "model.add(layers.Conv2D(32, (3, 3), input_shape=(150, 150, 3), activation='relu'))\n",
    "model.add(layers.MaxPooling2D(pool_size=(2, 2)))\n",
    "\n",
    "model.add(layers.Conv2D(32, (3, 3), activation='relu'))\n",
    "model.add(layers.MaxPooling2D(pool_size=(2, 2)))\n",
    "\n",
    "model.add(layers.Conv2D(64, (3, 3), activation='relu'))\n",
    "model.add(layers.MaxPooling2D(pool_size=(2, 2)))\n",
    "\n",
    "model.add(layers.Flatten())\n",
    "model.add(layers.Dense(64, activation='relu'))\n",
    "model.add(layers.Dropout(0.5))\n",
    "model.add(layers.Dense(1, activation='sigmoid'))\n",
    "\n",
    "model.summary()"
   ]
  },
  {
   "cell_type": "code",
   "execution_count": 4,
   "id": "74cf61b9",
   "metadata": {},
   "outputs": [],
   "source": [
    "model.compile(loss='binary_crossentropy', optimizer=optimizers.Adam(learning_rate=0.0002),\n",
    "             metrics=['accuracy'])\n",
    "\n",
    "early_stopping = EarlyStopping(monitor='val_loss', patience=5)"
   ]
  },
  {
   "cell_type": "code",
   "execution_count": 5,
   "id": "545c4f54",
   "metadata": {},
   "outputs": [
    {
     "name": "stdout",
     "output_type": "stream",
     "text": [
      "Epoch 1/100\n",
      "32/32 [==============================] - 17s 518ms/step - loss: 0.6974 - accuracy: 0.5250 - val_loss: 0.6919 - val_accuracy: 0.5000\n",
      "Epoch 2/100\n",
      "32/32 [==============================] - 1s 46ms/step - loss: 0.6923 - accuracy: 0.5562 - val_loss: 0.6878 - val_accuracy: 0.5250\n",
      "Epoch 3/100\n",
      "32/32 [==============================] - 1s 35ms/step - loss: 0.6931 - accuracy: 0.5437 - val_loss: 0.6842 - val_accuracy: 0.5750\n",
      "Epoch 4/100\n",
      "32/32 [==============================] - 1s 33ms/step - loss: 0.6884 - accuracy: 0.5312 - val_loss: 0.6778 - val_accuracy: 0.6417\n",
      "Epoch 5/100\n",
      "32/32 [==============================] - 1s 34ms/step - loss: 0.6729 - accuracy: 0.5688 - val_loss: 0.6732 - val_accuracy: 0.5000\n",
      "Epoch 6/100\n",
      "32/32 [==============================] - 1s 34ms/step - loss: 0.6760 - accuracy: 0.5750 - val_loss: 0.6599 - val_accuracy: 0.5417\n",
      "Epoch 7/100\n",
      "32/32 [==============================] - 1s 42ms/step - loss: 0.6421 - accuracy: 0.6625 - val_loss: 0.6658 - val_accuracy: 0.5167\n",
      "Epoch 8/100\n",
      "32/32 [==============================] - 1s 36ms/step - loss: 0.6364 - accuracy: 0.6313 - val_loss: 0.6451 - val_accuracy: 0.5500\n",
      "Epoch 9/100\n",
      "32/32 [==============================] - 1s 35ms/step - loss: 0.6234 - accuracy: 0.6562 - val_loss: 0.6473 - val_accuracy: 0.5417\n",
      "Epoch 10/100\n",
      "32/32 [==============================] - 1s 40ms/step - loss: 0.6028 - accuracy: 0.6750 - val_loss: 0.5796 - val_accuracy: 0.6000\n",
      "Epoch 11/100\n",
      "32/32 [==============================] - 1s 36ms/step - loss: 0.5301 - accuracy: 0.7312 - val_loss: 0.5566 - val_accuracy: 0.6500\n",
      "Epoch 12/100\n",
      "32/32 [==============================] - 1s 43ms/step - loss: 0.5110 - accuracy: 0.7375 - val_loss: 0.4069 - val_accuracy: 0.8333\n",
      "Epoch 13/100\n",
      "32/32 [==============================] - 1s 36ms/step - loss: 0.4757 - accuracy: 0.7688 - val_loss: 0.4476 - val_accuracy: 0.7750\n",
      "Epoch 14/100\n",
      "32/32 [==============================] - 1s 36ms/step - loss: 0.4334 - accuracy: 0.8125 - val_loss: 0.2796 - val_accuracy: 0.9333\n",
      "Epoch 15/100\n",
      "32/32 [==============================] - 1s 35ms/step - loss: 0.4469 - accuracy: 0.7812 - val_loss: 0.3883 - val_accuracy: 0.8167\n",
      "Epoch 16/100\n",
      "32/32 [==============================] - 1s 34ms/step - loss: 0.3830 - accuracy: 0.8313 - val_loss: 0.2786 - val_accuracy: 0.9167\n",
      "Epoch 17/100\n",
      "32/32 [==============================] - 1s 43ms/step - loss: 0.3669 - accuracy: 0.8313 - val_loss: 0.2120 - val_accuracy: 0.9500\n",
      "Epoch 18/100\n",
      "32/32 [==============================] - 1s 36ms/step - loss: 0.3068 - accuracy: 0.8875 - val_loss: 0.1660 - val_accuracy: 0.9500\n",
      "Epoch 19/100\n",
      "32/32 [==============================] - 1s 34ms/step - loss: 0.2729 - accuracy: 0.9125 - val_loss: 0.2052 - val_accuracy: 0.9000\n",
      "Epoch 20/100\n",
      "32/32 [==============================] - 1s 40ms/step - loss: 0.3039 - accuracy: 0.8687 - val_loss: 0.2152 - val_accuracy: 0.8917\n",
      "Epoch 21/100\n",
      "32/32 [==============================] - 1s 35ms/step - loss: 0.2714 - accuracy: 0.8875 - val_loss: 0.1809 - val_accuracy: 0.9333\n",
      "Epoch 22/100\n",
      "32/32 [==============================] - 1s 42ms/step - loss: 0.1858 - accuracy: 0.9438 - val_loss: 0.3214 - val_accuracy: 0.8333\n",
      "Epoch 23/100\n",
      "32/32 [==============================] - 1s 35ms/step - loss: 0.3421 - accuracy: 0.8750 - val_loss: 0.1725 - val_accuracy: 0.9333\n"
     ]
    }
   ],
   "source": [
    "h = model.fit(train_generator, epochs=100, validation_data=test_generator,\n",
    "             callbacks=[early_stopping])"
   ]
  },
  {
   "cell_type": "code",
   "execution_count": 6,
   "id": "90d944e8",
   "metadata": {},
   "outputs": [
    {
     "data": {
      "image/png": "[encoded data removed]",
      "text/plain": [
       "<Figure size 640x480 with 1 Axes>"
      ]
     },
     "metadata": {},
     "output_type": "display_data"
    }
   ],
   "source": [
    "y_vloss = h.history['val_loss']\n",
    "y_loss = h.history['loss']\n",
    "\n",
    "x_len = np.arange(len(y_loss))\n",
    "plt.plot(x_len, y_vloss, marker='.', c=\"red\", label='Testset_loss')\n",
    "plt.plot(x_len, y_loss, marker='.', c=\"blue\", label='Trainset_loss')\n",
    "\n",
    "plt.legend(loc='upper right')\n",
    "plt.grid()\n",
    "plt.xlabel('epoch')\n",
    "plt.ylabel('loss')\n",
    "plt.show()"
   ]
  },
  {
   "cell_type": "code",
   "execution_count": null,
   "id": "08d72356",
   "metadata": {},
   "outputs": [],
   "source": []
  }
 ],
 "metadata": {
  "kernelspec": {
   "display_name": "Python 3 (ipykernel)",
   "language": "python",
   "name": "python3"
  },
  "language_info": {
   "codemirror_mode": {
    "name": "ipython",
    "version": 3
   },
   "file_extension": ".py",
   "mimetype": "text/x-python",
   "name": "python",
   "nbconvert_exporter": "python",
   "pygments_lexer": "ipython3",
   "version": "3.9.17"
  }
 },
 "nbformat": 4,
 "nbformat_minor": 5
}
