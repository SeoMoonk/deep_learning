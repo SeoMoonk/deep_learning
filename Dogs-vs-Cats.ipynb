{
 "cells": [
  {
   "cell_type": "code",
   "execution_count": 1,
   "id": "02b5fb40",
   "metadata": {},
   "outputs": [],
   "source": [
    "train_dir = 'data/dogs-vs-cats/train'\n",
    "test_dir = 'data/dogs-vs-cats/test'"
   ]
  },
  {
   "cell_type": "code",
   "execution_count": 2,
   "id": "6d9a3288",
   "metadata": {},
   "outputs": [],
   "source": [
    "from tensorflow.keras import models, layers\n",
    "from tensorflow.keras.callbacks import EarlyStopping, ModelCheckpoint\n",
    "import numpy as np\n",
    "import matplotlib.pyplot as plt\n",
    "import os\n",
    "os.environ['KMP_DUPLICATE_LIB_OK'] = '1'"
   ]
  },
  {
   "cell_type": "code",
   "execution_count": 3,
   "id": "470159cb",
   "metadata": {},
   "outputs": [],
   "source": [
    "model = models.Sequential()\n",
    "model.add(layers.Conv2D(32, (3,3), activation ='relu', input_shape=(150,150,3)))\n",
    "model.add(layers.MaxPooling2D (pool_size=(2,2)))\n",
    "model.add(layers.Conv2D(64, (3,3), activation ='relu'))\n",
    "model.add(layers.MaxPooling2D (pool_size=(2,2)))\n",
    "model.add(layers.Conv2D(128, (3,3), activation ='relu'))\n",
    "model.add(layers.MaxPooling2D (pool_size=(2,2)))\n",
    "model.add(layers.Conv2D(128, (3,3), activation ='relu'))\n",
    "model.add(layers.MaxPooling2D (pool_size=(2,2)))\n",
    "model.add(layers.Flatten())\n",
    "model.add(layers.Dropout(0.5))\n",
    "model.add(layers.Dense(512, activation ='relu'))\n",
    "model.add(layers.Dense(1, activation ='sigmoid'))"
   ]
  },
  {
   "cell_type": "code",
   "execution_count": 4,
   "id": "5bb795d0",
   "metadata": {},
   "outputs": [
    {
     "name": "stdout",
     "output_type": "stream",
     "text": [
      "Model: \"sequential\"\n",
      "_________________________________________________________________\n",
      " Layer (type)                Output Shape              Param #   \n",
      "=================================================================\n",
      " conv2d (Conv2D)             (None, 148, 148, 32)      896       \n",
      "                                                                 \n",
      " max_pooling2d (MaxPooling2D  (None, 74, 74, 32)       0         \n",
      " )                                                               \n",
      "                                                                 \n",
      " conv2d_1 (Conv2D)           (None, 72, 72, 64)        18496     \n",
      "                                                                 \n",
      " max_pooling2d_1 (MaxPooling  (None, 36, 36, 64)       0         \n",
      " 2D)                                                             \n",
      "                                                                 \n",
      " conv2d_2 (Conv2D)           (None, 34, 34, 128)       73856     \n",
      "                                                                 \n",
      " max_pooling2d_2 (MaxPooling  (None, 17, 17, 128)      0         \n",
      " 2D)                                                             \n",
      "                                                                 \n",
      " conv2d_3 (Conv2D)           (None, 15, 15, 128)       147584    \n",
      "                                                                 \n",
      " max_pooling2d_3 (MaxPooling  (None, 7, 7, 128)        0         \n",
      " 2D)                                                             \n",
      "                                                                 \n",
      " flatten (Flatten)           (None, 6272)              0         \n",
      "                                                                 \n",
      " dropout (Dropout)           (None, 6272)              0         \n",
      "                                                                 \n",
      " dense (Dense)               (None, 512)               3211776   \n",
      "                                                                 \n",
      " dense_1 (Dense)             (None, 1)                 513       \n",
      "                                                                 \n",
      "=================================================================\n",
      "Total params: 3,453,121\n",
      "Trainable params: 3,453,121\n",
      "Non-trainable params: 0\n",
      "_________________________________________________________________\n"
     ]
    }
   ],
   "source": [
    "model.summary()"
   ]
  },
  {
   "cell_type": "code",
   "execution_count": 5,
   "id": "6357f1af",
   "metadata": {},
   "outputs": [],
   "source": [
    "model.compile(loss='binary_crossentropy', optimizer = 'adam', metrics=['accuracy'])"
   ]
  },
  {
   "cell_type": "code",
   "execution_count": 6,
   "id": "84c82b93",
   "metadata": {},
   "outputs": [
    {
     "name": "stdout",
     "output_type": "stream",
     "text": [
      "Found 20000 images belonging to 2 classes.\n",
      "Found 5000 images belonging to 2 classes.\n"
     ]
    }
   ],
   "source": [
    "from tensorflow.keras.preprocessing.image import ImageDataGenerator\n",
    "\n",
    "train_datagen = ImageDataGenerator(rescale=1./255)\n",
    "test_datagen = ImageDataGenerator(rescale=1./255)\n",
    "\n",
    "train_generator = train_datagen.flow_from_directory(train_dir, target_size=(150, 150), batch_size=20, class_mode='binary')\n",
    "\n",
    "validation_generator = test_datagen.flow_from_directory(test_dir, target_size=(150, 150), batch_size=20, class_mode='binary')"
   ]
  },
  {
   "cell_type": "code",
   "execution_count": 7,
   "id": "d81d367e",
   "metadata": {},
   "outputs": [],
   "source": [
    "early_stopping = EarlyStopping(monitor='val_loss', patience=10)\n",
    "\n",
    "modelpath = 'model/dogs-vs-cats.hdf5'\n",
    "\n",
    "checkpoint = ModelCheckpoint(filepath=modelpath, verbose=0, monitor='val_loss', save_best_only=True)"
   ]
  },
  {
   "cell_type": "code",
   "execution_count": 8,
   "id": "f71d43b4",
   "metadata": {},
   "outputs": [
    {
     "name": "stdout",
     "output_type": "stream",
     "text": [
      "Epoch 1/30\n",
      "1000/1000 [==============================] - 125s 125ms/step - loss: 0.6575 - accuracy: 0.6003 - val_loss: 0.6072 - val_accuracy: 0.6512\n",
      "Epoch 2/30\n",
      "1000/1000 [==============================] - 135s 135ms/step - loss: 0.5289 - accuracy: 0.7349 - val_loss: 0.4489 - val_accuracy: 0.7832\n",
      "Epoch 3/30\n",
      "1000/1000 [==============================] - 131s 131ms/step - loss: 0.4459 - accuracy: 0.7901 - val_loss: 0.4826 - val_accuracy: 0.7658\n",
      "Epoch 4/30\n",
      "1000/1000 [==============================] - 122s 122ms/step - loss: 0.3881 - accuracy: 0.8268 - val_loss: 0.3991 - val_accuracy: 0.8106\n",
      "Epoch 5/30\n",
      "1000/1000 [==============================] - 120s 120ms/step - loss: 0.3367 - accuracy: 0.8532 - val_loss: 0.3370 - val_accuracy: 0.8496\n",
      "Epoch 6/30\n",
      "1000/1000 [==============================] - 124s 124ms/step - loss: 0.3001 - accuracy: 0.8701 - val_loss: 0.3054 - val_accuracy: 0.8664\n",
      "Epoch 7/30\n",
      "1000/1000 [==============================] - 129s 129ms/step - loss: 0.2588 - accuracy: 0.8888 - val_loss: 0.2824 - val_accuracy: 0.8784\n",
      "Epoch 8/30\n",
      "1000/1000 [==============================] - 128s 128ms/step - loss: 0.2229 - accuracy: 0.9078 - val_loss: 0.2840 - val_accuracy: 0.8806\n",
      "Epoch 9/30\n",
      "1000/1000 [==============================] - 136s 136ms/step - loss: 0.1939 - accuracy: 0.9211 - val_loss: 0.3138 - val_accuracy: 0.8744\n",
      "Epoch 10/30\n",
      "1000/1000 [==============================] - 140s 140ms/step - loss: 0.1745 - accuracy: 0.9320 - val_loss: 0.3367 - val_accuracy: 0.8782\n",
      "Epoch 11/30\n",
      "1000/1000 [==============================] - 135s 135ms/step - loss: 0.1575 - accuracy: 0.9358 - val_loss: 0.2743 - val_accuracy: 0.8964\n",
      "Epoch 12/30\n",
      "1000/1000 [==============================] - 144s 144ms/step - loss: 0.1365 - accuracy: 0.9459 - val_loss: 0.2832 - val_accuracy: 0.8860\n",
      "Epoch 13/30\n",
      "1000/1000 [==============================] - 131s 131ms/step - loss: 0.1218 - accuracy: 0.9513 - val_loss: 0.2973 - val_accuracy: 0.8960\n",
      "Epoch 14/30\n",
      "1000/1000 [==============================] - 125s 125ms/step - loss: 0.1069 - accuracy: 0.9579 - val_loss: 0.3092 - val_accuracy: 0.9008\n",
      "Epoch 15/30\n",
      "1000/1000 [==============================] - 121s 121ms/step - loss: 0.0960 - accuracy: 0.9637 - val_loss: 0.2907 - val_accuracy: 0.8974\n",
      "Epoch 16/30\n",
      "1000/1000 [==============================] - 125s 125ms/step - loss: 0.0883 - accuracy: 0.9665 - val_loss: 0.3166 - val_accuracy: 0.8938\n",
      "Epoch 17/30\n",
      "1000/1000 [==============================] - 130s 130ms/step - loss: 0.0842 - accuracy: 0.9686 - val_loss: 0.3030 - val_accuracy: 0.8910\n",
      "Epoch 18/30\n",
      "1000/1000 [==============================] - 121s 121ms/step - loss: 0.0863 - accuracy: 0.9693 - val_loss: 0.2784 - val_accuracy: 0.8978\n",
      "Epoch 19/30\n",
      "1000/1000 [==============================] - 124s 124ms/step - loss: 0.0675 - accuracy: 0.9753 - val_loss: 0.3490 - val_accuracy: 0.8932\n",
      "Epoch 20/30\n",
      "1000/1000 [==============================] - 123s 123ms/step - loss: 0.0761 - accuracy: 0.9714 - val_loss: 0.3492 - val_accuracy: 0.8970\n",
      "Epoch 21/30\n",
      "1000/1000 [==============================] - 129s 129ms/step - loss: 0.0652 - accuracy: 0.9761 - val_loss: 0.3186 - val_accuracy: 0.8980\n"
     ]
    }
   ],
   "source": [
    "h = model.fit(train_generator, epochs=30, validation_data=validation_generator, callbacks=[checkpoint, early_stopping])"
   ]
  },
  {
   "cell_type": "code",
   "execution_count": 9,
   "id": "22b6ea30",
   "metadata": {},
   "outputs": [
    {
     "data": {
      "image/png": "[encoded data removed]",
      "text/plain": [
       "<Figure size 640x480 with 1 Axes>"
      ]
     },
     "metadata": {},
     "output_type": "display_data"
    }
   ],
   "source": [
    "y_vloss = h.history['val_loss']\n",
    "y_loss = h.history['loss']\n",
    "\n",
    "x_len = np.arange(len(y_loss))\n",
    "plt.plot(x_len, y_vloss, marker='.', c=\"red\", label='Testset_loss')\n",
    "plt.plot(x_len, y_loss, marker='.', c=\"blue\", label='Trainset_loss')\n",
    "plt.legend(loc='upper right')\n",
    "plt.grid()\n",
    "plt.xlabel('epoch')\n",
    "plt.ylabel('loss')\n",
    "plt.show()"
   ]
  },
  {
   "cell_type": "code",
   "execution_count": null,
   "id": "de904c90",
   "metadata": {},
   "outputs": [],
   "source": []
  }
 ],
 "metadata": {
  "kernelspec": {
   "display_name": "Python 3 (ipykernel)",
   "language": "python",
   "name": "python3"
  },
  "language_info": {
   "codemirror_mode": {
    "name": "ipython",
    "version": 3
   },
   "file_extension": ".py",
   "mimetype": "text/x-python",
   "name": "python",
   "nbconvert_exporter": "python",
   "pygments_lexer": "ipython3",
   "version": "3.9.17"
  }
 },
 "nbformat": 4,
 "nbformat_minor": 5
}
